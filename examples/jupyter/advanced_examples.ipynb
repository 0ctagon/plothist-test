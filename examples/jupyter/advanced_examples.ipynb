{
 "cells": [
  {
   "cell_type": "code",
   "execution_count": 1,
   "id": "1b0e8fd3",
   "metadata": {},
   "outputs": [],
   "source": [
    "import matplotlib.pyplot as plt\n",
    "import boost_histogram as bh\n",
    "\n",
    "from plothist.plotters import make_hist\n",
    "from plothist.plotters import plot_hist\n",
    "from plothist.plotters import plot_error_hist\n",
    "from plothist.plotters import plot_hist_difference\n",
    "from plothist.plotters import cubehelix_palette\n",
    "from plothist.generate_dummy_data import generate_dummy_data"
   ]
  },
  {
   "cell_type": "code",
   "execution_count": 2,
   "id": "104f6cfc",
   "metadata": {},
   "outputs": [
    {
     "data": {
      "text/html": [
       "<div>\n",
       "<style scoped>\n",
       "    .dataframe tbody tr th:only-of-type {\n",
       "        vertical-align: middle;\n",
       "    }\n",
       "\n",
       "    .dataframe tbody tr th {\n",
       "        vertical-align: top;\n",
       "    }\n",
       "\n",
       "    .dataframe thead th {\n",
       "        text-align: right;\n",
       "    }\n",
       "</style>\n",
       "<table border=\"1\" class=\"dataframe\">\n",
       "  <thead>\n",
       "    <tr style=\"text-align: right;\">\n",
       "      <th></th>\n",
       "      <th>variable_0</th>\n",
       "      <th>variable_1</th>\n",
       "      <th>variable_2</th>\n",
       "      <th>variable_3</th>\n",
       "      <th>variable_4</th>\n",
       "      <th>variable_5</th>\n",
       "      <th>variable_6</th>\n",
       "      <th>variable_7</th>\n",
       "      <th>variable_8</th>\n",
       "      <th>variable_9</th>\n",
       "      <th>category</th>\n",
       "    </tr>\n",
       "  </thead>\n",
       "  <tbody>\n",
       "    <tr>\n",
       "      <th>0</th>\n",
       "      <td>3.161042</td>\n",
       "      <td>0.626421</td>\n",
       "      <td>-0.315482</td>\n",
       "      <td>-2.264888</td>\n",
       "      <td>-5.781431</td>\n",
       "      <td>-3.406428</td>\n",
       "      <td>1.759432</td>\n",
       "      <td>1.146277</td>\n",
       "      <td>3.047033</td>\n",
       "      <td>1.442019</td>\n",
       "      <td>2</td>\n",
       "    </tr>\n",
       "    <tr>\n",
       "      <th>1</th>\n",
       "      <td>-0.181271</td>\n",
       "      <td>-3.567424</td>\n",
       "      <td>2.257261</td>\n",
       "      <td>-0.449406</td>\n",
       "      <td>-4.044520</td>\n",
       "      <td>-0.892859</td>\n",
       "      <td>1.510282</td>\n",
       "      <td>1.462701</td>\n",
       "      <td>-2.730473</td>\n",
       "      <td>3.381304</td>\n",
       "      <td>4</td>\n",
       "    </tr>\n",
       "    <tr>\n",
       "      <th>2</th>\n",
       "      <td>-2.291207</td>\n",
       "      <td>-2.257079</td>\n",
       "      <td>-2.195531</td>\n",
       "      <td>-1.726600</td>\n",
       "      <td>-3.583056</td>\n",
       "      <td>-3.436460</td>\n",
       "      <td>-2.698386</td>\n",
       "      <td>1.111759</td>\n",
       "      <td>1.378220</td>\n",
       "      <td>-0.169138</td>\n",
       "      <td>6</td>\n",
       "    </tr>\n",
       "    <tr>\n",
       "      <th>3</th>\n",
       "      <td>2.080979</td>\n",
       "      <td>-1.865050</td>\n",
       "      <td>2.895760</td>\n",
       "      <td>-3.415163</td>\n",
       "      <td>-4.098792</td>\n",
       "      <td>3.783088</td>\n",
       "      <td>0.757920</td>\n",
       "      <td>-3.674254</td>\n",
       "      <td>2.831025</td>\n",
       "      <td>0.668761</td>\n",
       "      <td>2</td>\n",
       "    </tr>\n",
       "    <tr>\n",
       "      <th>4</th>\n",
       "      <td>-2.468859</td>\n",
       "      <td>-3.788331</td>\n",
       "      <td>2.821014</td>\n",
       "      <td>0.965556</td>\n",
       "      <td>-3.902289</td>\n",
       "      <td>-2.797187</td>\n",
       "      <td>2.484887</td>\n",
       "      <td>0.164317</td>\n",
       "      <td>-1.315192</td>\n",
       "      <td>1.629387</td>\n",
       "      <td>4</td>\n",
       "    </tr>\n",
       "  </tbody>\n",
       "</table>\n",
       "</div>"
      ],
      "text/plain": [
       "   variable_0  variable_1  variable_2  variable_3  variable_4  variable_5  \\\n",
       "0    3.161042    0.626421   -0.315482   -2.264888   -5.781431   -3.406428   \n",
       "1   -0.181271   -3.567424    2.257261   -0.449406   -4.044520   -0.892859   \n",
       "2   -2.291207   -2.257079   -2.195531   -1.726600   -3.583056   -3.436460   \n",
       "3    2.080979   -1.865050    2.895760   -3.415163   -4.098792    3.783088   \n",
       "4   -2.468859   -3.788331    2.821014    0.965556   -3.902289   -2.797187   \n",
       "\n",
       "   variable_6  variable_7  variable_8  variable_9  category  \n",
       "0    1.759432    1.146277    3.047033    1.442019         2  \n",
       "1    1.510282    1.462701   -2.730473    3.381304         4  \n",
       "2   -2.698386    1.111759    1.378220   -0.169138         6  \n",
       "3    0.757920   -3.674254    2.831025    0.668761         2  \n",
       "4    2.484887    0.164317   -1.315192    1.629387         4  "
      ]
     },
     "execution_count": 2,
     "metadata": {},
     "output_type": "execute_result"
    }
   ],
   "source": [
    "# Generate dummy data\n",
    "df = generate_dummy_data()\n",
    "df.head()"
   ]
  },
  {
   "attachments": {},
   "cell_type": "markdown",
   "id": "d5f774c9",
   "metadata": {},
   "source": [
    "# I How to plot multiple data categories"
   ]
  },
  {
   "cell_type": "code",
   "execution_count": 3,
   "id": "93a8094e",
   "metadata": {},
   "outputs": [
    {
     "data": {
      "text/plain": [
       "Text(0, 0.5, 'Entries')"
      ]
     },
     "execution_count": 3,
     "metadata": {},
     "output_type": "execute_result"
    },
    {
     "data": {
      "image/png": "[encoded data removed]",
      "text/plain": [
       "<Figure size 600x400 with 1 Axes>"
      ]
     },
     "metadata": {},
     "output_type": "display_data"
    }
   ],
   "source": [
    "key = \"variable_1\"\n",
    "range = [-10, 10]\n",
    "category = \"category\"\n",
    "\n",
    "# Define masks\n",
    "\n",
    "unstacked_mask = df[category] == 7\n",
    "error_mask = df[category] == 8\n",
    "\n",
    "stacked_categories = [0, 1, 2, 3, 4, 5, 6]\n",
    "stacked_categories_labels = [f\"c{i}\" for i in stacked_categories]\n",
    "stacked_categories_colors = cubehelix_palette(\n",
    "    ncolors=len(stacked_categories),\n",
    "    start=1.5,\n",
    "    rotation=1.5,\n",
    "    darkest=0.3,\n",
    "    lightest=0.8,\n",
    "    reverse=True,\n",
    ")\n",
    "stacked_masks = [df[category] == p for p in stacked_categories]\n",
    "\n",
    "# Make histograms\n",
    "\n",
    "error_hist = make_hist(df[key][error_mask], bins=10, range=range, weights=1)\n",
    "stacked_hist = [\n",
    "    make_hist(df[key][mask], bins=10, range=range, weights=1) for mask in stacked_masks\n",
    "]\n",
    "unstacked_hist = make_hist(df[key][unstacked_mask], bins=10, range=range, weights=1)\n",
    "\n",
    "# Optional: normalisation to error_data\n",
    "\n",
    "stacked_hist_scaling_factor = error_hist.sum().value / sum(stacked_hist).sum().value\n",
    "stacked_hist = [stacked_hist_scaling_factor * h for h in stacked_hist]\n",
    "\n",
    "unstacked_hist_scaling_factor = error_hist.sum().value / unstacked_hist.sum().value\n",
    "unstacked_hist *= unstacked_hist_scaling_factor\n",
    "\n",
    "# Plot the histograms\n",
    "\n",
    "fig, ax = plt.subplots()\n",
    "\n",
    "plot_hist(\n",
    "    stacked_hist,\n",
    "    ax=ax,\n",
    "    stacked=True,\n",
    "    color=stacked_categories_colors,\n",
    "    label=stacked_categories_labels,\n",
    "    edgecolor=\"black\",\n",
    "    histtype=\"stepfilled\",\n",
    "    linewidth=0.5,\n",
    ")\n",
    "plot_hist(\n",
    "    unstacked_hist, ax=ax, stacked=False, color=\"red\", label=\"Signal\", histtype=\"step\"\n",
    ")\n",
    "plot_error_hist(error_hist, ax=ax, color=\"black\", label=\"Data\")\n",
    "\n",
    "ax.legend(ncol=1, framealpha=0.1, fontsize=10)\n",
    "\n",
    "ax.set_xlabel(key)\n",
    "ax.set_ylabel(\"Entries\")\n",
    "\n",
    "# Optional: save the figure\n",
    "# fig.savefig('test.pdf', bbox_inches='tight')"
   ]
  },
  {
   "attachments": {},
   "cell_type": "markdown",
   "id": "04b57b4d",
   "metadata": {},
   "source": [
    "# II Plot histogram difference"
   ]
  },
  {
   "cell_type": "code",
   "execution_count": 4,
   "id": "e7245357",
   "metadata": {},
   "outputs": [
    {
     "data": {
      "text/plain": [
       "Text(0, 0.5, 'Difference')"
      ]
     },
     "execution_count": 4,
     "metadata": {},
     "output_type": "execute_result"
    },
    {
     "data": {
      "image/png": "[encoded data removed]",
      "text/plain": [
       "<Figure size 600x400 with 1 Axes>"
      ]
     },
     "metadata": {},
     "output_type": "display_data"
    }
   ],
   "source": [
    "fig, ax = plt.subplots()\n",
    "plot_hist_difference(error_hist, sum(stacked_hist), ax)\n",
    "ax.set_xlabel(key)\n",
    "ax.set_ylabel(\"Difference\")"
   ]
  },
  {
   "cell_type": "code",
   "execution_count": null,
   "id": "1f001aa0",
   "metadata": {},
   "outputs": [],
   "source": []
  }
 ],
 "metadata": {
  "kernelspec": {
   "display_name": "Python 3 (Belle2)",
   "language": "python",
   "name": "python3"
  },
  "language_info": {
   "codemirror_mode": {
    "name": "ipython",
    "version": 3
   },
   "file_extension": ".py",
   "mimetype": "text/x-python",
   "name": "python",
   "nbconvert_exporter": "python",
   "pygments_lexer": "ipython3",
   "version": "3.10.6"
  },
  "vscode": {
   "interpreter": {
    "hash": "964cbaddc8d1a76d7d5780e8778b7e173de971b40377bfb42aca1c83b11c3c3f"
   }
  }
 },
 "nbformat": 4,
 "nbformat_minor": 5
}
